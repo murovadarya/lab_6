{
 "cells": [
  {
   "cell_type": "code",
   "execution_count": 7,
   "id": "33906884",
   "metadata": {},
   "outputs": [
    {
     "name": "stdout",
     "output_type": "stream",
     "text": [
      "Dijkstra's mean time: 0.0005048918000284175\n",
      "Bellman-Ford's mean time 0.0014944457998808502\n"
     ]
    }
   ],
   "source": [
    "import random\n",
    "import networkx as nx\n",
    "import time\n",
    "import matplotlib.pyplot as plt\n",
    "from statistics import mean\n",
    "\n",
    "\n",
    "def random_graph(vertices_count: int, edges_count: int) -> nx.Graph:\n",
    "    \"\"\"\n",
    "    Function that generate random weighted graph with input count of vertices and edges\n",
    "    :param vertices_count: vertices count\n",
    "    :param edges_count: edges count\n",
    "    :type vertices_count: int\n",
    "    :type edges_count: int\n",
    "    :return: generated weighted graph\n",
    "    :rtype: nx.Graph\n",
    "    \"\"\"\n",
    "\n",
    "    if edges_count > vertices_count ** 2 / 2:\n",
    "        raise ValueError(\"Edges count must be less then vertices count ^ 2 / 2\")\n",
    "\n",
    "    if edges_count < vertices_count:\n",
    "        raise ValueError(\"Vertices count must be bigger then edges count\")\n",
    "\n",
    "    result = nx.Graph()\n",
    "\n",
    "    for i in range(vertices_count):\n",
    "        result.add_node(i)\n",
    "\n",
    "    possible_vertices_in_matrix = [elem for elem in range(vertices_count ** 2) if elem // vertices_count < elem % vertices_count]\n",
    "\n",
    "    for row in range(vertices_count - 1):\n",
    "        column = random.randint(row + 1, vertices_count - 1)\n",
    "\n",
    "        result.add_edge(row, column)\n",
    "\n",
    "        possible_vertices_in_matrix.remove(row * vertices_count + column)\n",
    "\n",
    "    edges_left = edges_count - vertices_count\n",
    "\n",
    "    random_vertices = random.sample(possible_vertices_in_matrix, edges_left)\n",
    "\n",
    "    for elem in random_vertices:\n",
    "        result.add_edge(elem // vertices_count, elem % vertices_count, weight=random.randint(1, 100))\n",
    "\n",
    "    return result\n",
    "\n",
    "\n",
    "# Generating graph\n",
    "my_graph = random_graph(100, 500)\n",
    "\n",
    "# Print paths\n",
    "# print(nx.single_source_dijkstra(my_graph, 10)[1])\n",
    "# print(nx.single_source_bellman_ford(my_graph, 10)[1])\n",
    "\n",
    "dijkstra_times = []\n",
    "bellman_ford_times = []\n",
    "\n",
    "# Counting time of working\n",
    "for _ in range(10):\n",
    "    start_time = time.perf_counter()\n",
    "    nx.single_source_dijkstra(my_graph, 10)\n",
    "    end_time = time.perf_counter()\n",
    "    dijkstra_times.append(end_time - start_time)\n",
    "\n",
    "# Counting time of working\n",
    "for _ in range(10):\n",
    "    start_time = time.perf_counter()\n",
    "    nx.single_source_bellman_ford(my_graph, 10)[1]\n",
    "    end_time = time.perf_counter()\n",
    "    bellman_ford_times.append(end_time - start_time)\n",
    "\n",
    "# Print results\n",
    "print(\"Dijkstra's mean time:\", mean(dijkstra_times))\n",
    "print(\"Bellman-Ford's mean time\", mean(bellman_ford_times))\n"
   ]
  },
  {
   "cell_type": "code",
   "execution_count": null,
   "id": "91e70b50",
   "metadata": {},
   "outputs": [],
   "source": []
  }
 ],
 "metadata": {
  "kernelspec": {
   "display_name": "Python 3 (ipykernel)",
   "language": "python",
   "name": "python3"
  },
  "language_info": {
   "codemirror_mode": {
    "name": "ipython",
    "version": 3
   },
   "file_extension": ".py",
   "mimetype": "text/x-python",
   "name": "python",
   "nbconvert_exporter": "python",
   "pygments_lexer": "ipython3",
   "version": "3.9.12"
  }
 },
 "nbformat": 4,
 "nbformat_minor": 5
}
